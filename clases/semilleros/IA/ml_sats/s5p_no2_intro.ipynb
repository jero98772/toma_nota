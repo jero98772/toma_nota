{
 "cells": [
  {
   "cell_type": "markdown",
   "metadata": {},
   "source": [
    "# NO2 retrievals from TROPOMI\n",
    "\n",
    "Henk Eskes (henk.eskes@knmi.nl) \n",
    "\n",
    "Based in part on a university class developed by Folkert Boersma (folkert.boersma@wur.nl), March 2022 \n"
   ]
  },
  {
   "cell_type": "markdown",
   "metadata": {},
   "source": [
    "In this tutorial you will learn how to:\n",
    "- read a TROPOMI NO2 level-2 file with python and work with the data, \n",
    "- apply a necessary quality filtering, \n",
    "- visualise the data with Panoply, and understand the inputs and steps to derive an NO$_2$ column\n",
    "- understand better what is in the level-2 datafile and how to use the data,\n",
    "- explore a 3-year average TROPOMI NO2 field,\n",
    "- estimate emissions from major hotspots (e.g. Paris)\n",
    "\n",
    "## Excercises (as separate notebooks) \n",
    "\n",
    "- <a href=\"s5p_no2_ex1.ipynb\">Excercise 1</a>: Data quality filtering\n",
    "- <a href=\"s5p_no2_ex2.ipynb\">Excercise 2</a>: Visualise the fields in the S5P_NO2 datafile\n",
    "- <a href=\"s5p_no2_ex3.ipynb\">Excercise 3</a>: NO2 over Colombia\n",
    "- <a href=\"s5p_no2_ex4_Paris_emission_estimate.ipynb\">Excercise 4</a>: Estimating emissions from Paris\n",
    "\n",
    "\n",
    "## Relevant links\n",
    "\n",
    "If you want to know more about TROPOMI, and want to download data and use it, the following links are of importance:\n",
    "\n",
    "- https://sentinel.esa.int/web/sentinel/user-guides/sentinel-5p-tropomi/document-library <br>\n",
    "  this page provides access to the three key documents, the Product Readme File (which you should read first), the Product User Manual (to explain how the data should be used) and the Algorithm Theoretical Baseline Document (a detailed explanation of the algorithm, mainly for experts)\n",
    "- http://www.tropomi.eu <br>\n",
    "  this page is the central site with information of TROPOMI, hosted by the KNMI in the Netherlands.\n",
    "- https://s5phub.copernicus.eu/dhus/#/home <br>\n",
    "  to download datafiles <br>\n",
    "  https://tropomi.gesdisc.eosdis.nasa.gov/data/S5P_TROPOMI_Level2/ <br>\n",
    "  an alternative download location provided by NASA\n",
    "- https://apps.sentinel-hub.com/eo-browser <br>\n",
    "  for a quick visualisation of the data\n",
    "- https://www.giss.nasa.gov/tools/panoply/ <br>\n",
    "  a graphical tool to display the contents of the datafiles, developed by NASA\n",
    "\n"
   ]
  },
  {
   "cell_type": "markdown",
   "metadata": {},
   "source": [
    "![](figs/no2_trop_world_3_year_mean_pal.png)\n",
    "\n",
    "*Figure: 3-year mean TROPOMI NO<sub>2</sub> distribution.*\n",
    "\n",
    "## Teaser\n",
    "\n",
    "As a teaser, we will make a plot similar to the one above using the Panoply app.\n",
    "\n",
    "**Excercise**: Start Panoply. Open the NetCDF file \"s5p_no2_PAL_v231_gridding_2x2_3year_mean.nc\". \n",
    "\n",
    "This is a very simple file, and contains only one field no2_vcd_trop_gridded. This is an average of NO$_2$ observations between 1-6-2018 and 31-5-2021.\n",
    "\n",
    "**Excercise**: Make a global map of the mean NO$_2$ distribution, somewhat like the one above (which was also produced with Panoply).\n",
    "\n",
    "In the other notebooks we will investigate the data in more detail.\n"
   ]
  },
  {
   "cell_type": "code",
   "execution_count": null,
   "metadata": {},
   "outputs": [],
   "source": []
  }
 ],
 "metadata": {
  "kernelspec": {
   "display_name": "Python 3 (ipykernel)",
   "language": "python",
   "name": "python3"
  },
  "language_info": {
   "codemirror_mode": {
    "name": "ipython",
    "version": 3
   },
   "file_extension": ".py",
   "mimetype": "text/x-python",
   "name": "python",
   "nbconvert_exporter": "python",
   "pygments_lexer": "ipython3",
   "version": "3.8.13"
  }
 },
 "nbformat": 4,
 "nbformat_minor": 4
}
