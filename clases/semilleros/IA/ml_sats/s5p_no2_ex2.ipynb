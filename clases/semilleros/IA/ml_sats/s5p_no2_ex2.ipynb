{
 "cells": [
  {
   "cell_type": "markdown",
   "metadata": {},
   "source": [
    "# Visualise the NO2 retrievals with PANOPLY\n",
    "\n",
    "In this tutorial the TROPOMI NO2 level-2 file will be visualised using the NASA Panoply tool.<br>\n",
    "Various fields in the datafile which have an important meaning in the retrieval will be visualised, <br>\n",
    "providing a conceptual understanding of the retrieval.\n",
    "\n",
    "**Open the file with PANOPLY**\n",
    "\n",
    "Start the PANOPLY app. We will use the newly-created file we generated in the previous notebook, so including filtered NO2 data. The file should be located in the directory\n",
    "\n",
    " - *JupyNB_Tropomi / data*\n",
    "\n",
    "with the name\n",
    "\n",
    "- *S5P_PAL__L2__NO2____20180625T112113_20180625T130243_03619_01_020301_20211108T154829_qafiltered.nc*\n",
    "\n",
    "Open the file in PANOPLY, showing the sources window. "
   ]
  },
  {
   "cell_type": "markdown",
   "metadata": {},
   "source": [
    "## Traceability\n",
    "\n",
    "The TROPOMI files are very extended and contain a lot of fields and metadata. The basic idea behind this is that we want to be able to reconstruct the NO2 tropospheric column data using the information in the file. So the file will specify:\n",
    "\n",
    "- All the input data files and file names, versions and creation dates\n",
    "- Versions of processors used to generate the inputs and data\n",
    "- Settings for those processors\n",
    "- Applicable documents\n",
    "\n",
    "Open the \"METADATA\" folder and scan through it to get an idea. <br>\n",
    "Then quickly close it again: we do not have to know all this to use the data ;-)\n",
    "\n",
    "Now open the \"PRODUCT\" folder.\n",
    "\n",
    "Apart from the metadata, the file also contains\n",
    "a bunch of intermediate results and input fields which are used in the retrieval.\n",
    "\n",
    "The input fields are stored mainly in \n",
    "\n",
    "- *PRODUCT / SUPPORT_DATA / INPUT_DATA and GEOLOCATIONS*\n",
    "\n",
    "The GEOLOCATIONS folder contains the geometry of the measurement: the location of the satellite, angles of line from the viewing location to the satellite, and angles of the sun.\n",
    "\n",
    "The INPUT_DATA folder contains other information used, such as information about the surface, clouds, pressure and snow and ice information.\n",
    "\n",
    "**Excercise:** Have a look at the content of these two SUPPORT_DATA folders. Try to reason why these quantities would influence the estimate of the tropospheric NO$_2$ column.\n",
    "\n",
    "The intermediate results are stored mainly in \n",
    "\n",
    "- *PRODUCT / SUPPORT_DATA / DETAILED_RESULTS*\n",
    "\n",
    "Some of these intermediate quantities are discussed below.\n",
    "\n",
    " "
   ]
  },
  {
   "cell_type": "markdown",
   "metadata": {},
   "source": [
    "## Retrieval steps\n",
    "\n",
    "The retrieval consists of several steps:\n",
    "\n",
    "- A spectral fit producing the NO$_2$ **Slant Column**, or the amount of NO$_2$ along the path the light has travelled through the atmosphere.\n",
    "- An estimate of the amount of NO$_2$ in the **stratosphere**, roughly above 10km altitude. This is subtracted from the total column to give the slant column amount in the troposphere (below 10km).\n",
    "- An estimate of the **average light path length** through the troposphere. The ratio of this path lenth divided by the thickness of the troposphere (about 10 km) is called the **Air Mass Factor**.\n",
    "- A calculation of the satellite sensitivity as a function of height profile, the **Averaging Kernel**. \n",
    "- Compute the **tropospheric NO$_2$ column**."
   ]
  },
  {
   "cell_type": "markdown",
   "metadata": {},
   "source": [
    "## Slant column of NO$_2$\n",
    "\n",
    "Visualise the field *nitrogendioxide_slant_column_density* in the folder \"DETAILED_RESULTS\".<br>\n",
    "Use the projection \"Equirectangular\"\n",
    "\n",
    "**Excercise:** Why is the slant column large at high latitudes, and small in the tropics?\n",
    "\n",
    "**Excercise:** Why is the slant column large at the edges of the swath, and small in the middle?\n",
    "\n",
    "**Excercise:** Can you spot features related to pollution near the surface? Where?\n"
   ]
  },
  {
   "cell_type": "markdown",
   "metadata": {},
   "source": [
    "## Stratospheric NO$_2$\n",
    "\n",
    "Nitrogen dioxide is an important trace gas in the stratosphere because of its role in the photochemistry of ozone. NO + NO$_2$ (NO$_x$) in the stratosphere originates from the oxidation of N$_2$O in the middle stratosphere. NO + NO$_2$ destroy ozone catalytically, but they can also suppress ozone depletion by converting reactive chlorine and hydrogen compounds into unreactive reservoirs such as ClONO$_2$ and HNO$_3$. Monitoring of stratospheric NO$_2$ thus provides important support to monitoring of the ozone layer. \n",
    "\n",
    "In the stratosphere, NO$_2$ is in equilibrium with its reservoirs N$_2$O$_5$ and HNO$_3$. Both are being photolyzed during the day, and reform during the night. As a result, the amount of NO$_2$ in the stratosphere depends on the number of hours of sunshine. This leads to variations during the day, and a strong seasonality with maximum NO$_2$ in Summer and minimum NO$_2$ in winter at mid and high latitudes. \n",
    "\n",
    "Because of the long residence times of nitrogen oxides in the stratosphere, and because the amount of illumination depends on season and latitude, the stratospheric NO$_2$ column is mainly a function of latitude, and not longitude. Transport of air masses, temperature variations and chemistry may lead to small deviations from this zonally invariant approximation. \n",
    "\n",
    "Visualise the field *nitrogendioxide_stratospheric_column* in the folder \"DETAILED_RESULTS\".<br>\n",
    "Use the projection \"Equirectangular\"\n",
    "\n",
    "**Excercise:** Is the plot in agreement with the above discussion? Is it summer or winter in the Northern hemisphere? Name two reasons how you can deduce this from the plot. \n"
   ]
  },
  {
   "cell_type": "markdown",
   "metadata": {},
   "source": [
    "\n",
    "## The Air Mass Factor (AMF)\n",
    "\n",
    "### Stratospheric AMF\n",
    "\n",
    "Most of the light scattering occurs deep in the atmosphere, in the troposphere. Light from the sun travels through the stratospheric NO$_2$ layer, bounces back in the troposphere or at the surface, and travels a second time through the stratosphere towards the satellite.\n",
    "\n",
    "**Excercise:** Make a drawing of the light rays and the stratospheric layer. What happens to the path length when the sun is low?\n",
    "\n",
    "Visualise the field *air_mass_factor_stratosphere* in the folder \"DETAILED_RESULTS\".<br>\n",
    "Use the projection \"Equirectangular\".\n",
    "\n",
    "**Excercise:** Do you see a similarity between this stratospheric AMF and the slant column? Why?\n",
    "\n",
    "### Tropospheric AMF\n",
    "\n",
    "For the troposphere things are more complicated. There are several cases where only a small fraction of the light reaches the polluted layer of air close to the surface:\n",
    "\n",
    "- When the scene is covered by clouds, hiding the NO$_2$ below from view. \n",
    "- When the surface is very dark, e.g. for forests\n",
    "- When the sun is very low (high latitudes), in which case most of the light is scattered by the air molecules a few kilometers above the surface.\n",
    "- When the NO$_2$ is very close to the surface, below the mean height where most of the light scattering occurs.\n",
    "\n",
    "All these aspects, surface brightness (albedo), cloud cover, and the vertical density profile shape of NO$_2$, are leading to substantial unertainties in the retrieved NO$_2$ tropospheric column amount. These uncertainties can range between 20-60% over polluted regions.\n",
    "\n",
    "Visualise the field *air_mass_factor_troposphere* in the folder \"PRODUCT\".<br>\n",
    "Use the projection \"Equirectangular\".\n",
    "\n",
    "**Excercise:** Do you see a similarity between the tropospheric and stratospheric AMF? Why?\n",
    "\n",
    "\n",
    "### Clouds\n",
    "\n",
    "Visualise the field *cloud_radiance_fraction_nitrogendioxide_window* in the folder \"DETAILED_RESULTS\".<br>\n",
    "Use the projection \"Equirectangular\".\n",
    "\n",
    "**Excercise:** Do you see a similarity between the cloud (radiance) fraction and the tropospheric AMF? Why?\n",
    "\n",
    "**Excercise:** Any idea what would be the difference between a cloud fraction and a cloud radiance fraction? The latter is used in the retrieval.\n",
    "\n",
    "A unique feature of TROPOMI is it's ability to measure the altitude of the clouds. This is derived from the oxygen (O$_2$) absorption feature in the red part of the spectrum. This height information inflences the air-mass factor and averaging kernel, and is important information for the retrieval.\n",
    "\n",
    "Visualise the field *cloud_pressure_crb* in the folder \"INPUT_DATA\".<br>\n",
    "Use the projection \"Equirectangular\". \n",
    "\n",
    "**Excercise:** What are typical cloud pressures over Europe? Note that the cloud pressure is only meaningful when the cloud fraction is bigger than 0. <br> Where are the highest clouds? Note that the surface typically has a pressure around 1013 hPa at sea level, and that the tropopause (level between troposphere and stratosphere) lies at around 250 hPa (midlatitudes) up to 100 hPa (tropics).  "
   ]
  },
  {
   "cell_type": "markdown",
   "metadata": {},
   "source": [
    "### Averaging Kernel\n",
    "\n",
    "The radiation intensity in the atmosphere is height-dependent and this implies that also the increase of the measured absorption (the NO$_2$ slant column) to an increase in NO$_2$ at some altitude will be height dependent. This dependence is described by the averaging kernel.\n",
    "\n",
    "<img src=\"figs/ak_examples.png\" width=\"400\" >\n",
    "\n",
    "*Figure: Examples of averaging kernels: (a) clear pixel with a surface albedo of 0.02; (b) clear pixel with a surface albedo of 0.15; (c) pixel with an optically thick cloud and cloud top at 800 hPa (cloud is modelled as reflecting surface). Figure is taken from Eskes and Boersma 2003, https://doi.org/10.5194/acp-3-1285-2003.*\n",
    "\n",
    "The figure shows three examples of kernels. When the surface is very dark (a), for instance above a forest, the sensitivity drops to low values near the surface. When the surface is bright (b), for instance above a sandy desert or when there is snow, the drop is much smaller and the sensitivity is much more uniform. TROPOMI can not look through thick clouds (c), and this is demonstrated by the drop of the sensitivity to zero below the cloud, which is located at 800 hPa in this case.\n",
    "\n",
    "This variation in sensitivity also means that the tropospheric NO$_2$ column depends on the assumed vertical distribution (profile shape) of NO$_2$ in the troposphere. In the TROPOMI retrievals these profiles are generated with a global-scale chemistry-transport model (CTM). This model runs on gridcells of 1 by 1 degree (about 100 by 100 km) and is relatively coarse. Such a model is therefore not very realistic in describing the variability of the profile around a hotspot, such as a city or a power plant. Therefore it may be good to replace the default profiles by profiles generated by a regional CTM or air quality model run at higher resolution (e.g. 10 by 10 km or 2 by 2 km). The Product User Manual describes how such a NO$_2$ profile replacement can be implemented, by exploiting the averaging kernel information.\n",
    "\n",
    "One main application of the TROPOMI data is the testing of CTMs by comparing the modelled NO$_2$ with the TROPOMI retrieval. Such comparisons should make use of the averaging kernel vector **A** through the following equation:\n",
    "\n",
    "V_m = **A x**$_m$\n",
    "\n",
    "where **x**$_m$ is the model profile at the location of the TROPOMI observation, expressed as a column amount in each vertical model layer, with same units as TROPOMI, e.g. mol/m$^2$. The vector product **A x** is then compared with the TROPOMI tropospheric column.\n",
    "\n",
    "A nice and very important property of the comparison done in this way: the relative difference, e.g. (model - tropomi) / tropomi, is no longer dependent on the global CTM profiles used for the retrieval.\n",
    "\n",
    "\n",
    "**Excercise:** Visualise the field \"averaging_kernel\" in the folder PRODUCT. \n",
    "Choose scanline 1981 and ground pixel 126, a location above Paris. Make an x-y plot with the \"layer\" as verical axis. It should look something like the plot below. Also try an other scanline/groundpixel location, for instance above clouds.\n",
    "\n",
    "\n",
    "<img src=\"figs/ak_1981_126.png\" width=\"400\" >\n"
   ]
  },
  {
   "cell_type": "markdown",
   "metadata": {},
   "source": [
    "### Tropospheric NO2 column\n",
    "\n",
    "Finally we will now look at the NO$_2$ retrieval. This is the field <br>\n",
    "\n",
    "*nitrogendioxide_tropospheric_column*\n",
    "\n",
    "Remember, in the previous notebook we have applied the *qa_value* filtering. Therefore we have two additional fields in the file which were not in the original file:\n",
    "\n",
    "*nitrogendioxide_tropospheric_column_qavalue050_filtered* <br>\n",
    "*nitrogendioxide_tropospheric_column_qavalue075_filtered*\n",
    "\n",
    "The data with qa_value > 0.75 is the most used dataset. \n",
    "\n",
    "**Excercise:** Plot the three tropospheric NO$_2$ columns. Zoom in over central Europe and save the plot setings (this saves the domain). What do you observe?\n",
    "\n",
    "**Excercise:** Plot also the *cloud_radiance_fraction_nitrogendioxide_window* and compare this with *nitrogendioxide_tropospheric_column_qavalue075_filtered*. What do you observe?\n"
   ]
  },
  {
   "cell_type": "markdown",
   "metadata": {},
   "source": [
    "\n"
   ]
  },
  {
   "cell_type": "markdown",
   "metadata": {},
   "source": [
    "**Excercise:** Go back to the plot of the qa_value > 0.75 filtered observations. Zoom in further over France, save the plot settings. Find the Paris NO$_2$ plume in the data. Plot the (near surface) winds (Combine Northward and Eastward wind; Panoply can plot vectors) and check if the plume direction matches the wind direction."
   ]
  },
  {
   "cell_type": "markdown",
   "metadata": {},
   "source": [
    "Finding out how plotting vectors with Panoply works may take a while. You can also look at the figure below to save time.\n",
    "\n",
    "<img src=\"figs/wind_over_France.png\" width=\"500\" >\n"
   ]
  },
  {
   "cell_type": "code",
   "execution_count": null,
   "metadata": {},
   "outputs": [],
   "source": []
  }
 ],
 "metadata": {
  "kernelspec": {
   "display_name": "Python 3 (ipykernel)",
   "language": "python",
   "name": "python3"
  },
  "language_info": {
   "codemirror_mode": {
    "name": "ipython",
    "version": 3
   },
   "file_extension": ".py",
   "mimetype": "text/x-python",
   "name": "python",
   "nbconvert_exporter": "python",
   "pygments_lexer": "ipython3",
   "version": "3.8.13"
  }
 },
 "nbformat": 4,
 "nbformat_minor": 4
}
