{
 "cells": [
  {
   "cell_type": "code",
   "execution_count": 2,
   "metadata": {},
   "outputs": [
    {
     "name": "stdout",
     "output_type": "stream",
     "text": [
      "entre algo para calcular5*pi\n",
      "15.707963267948966\n"
     ]
    }
   ],
   "source": [
    "from math import e ,pi ,sqrt ,exp ,log , cos, sin, tan, atan, asin ,acos\n",
    "class caculadora:\n",
    "\tdef __init__(self,expresion):\n",
    "\t\tself.expresion = expresion\n",
    "\tdef calcular(self):\n",
    "\t\tentrada=eval(self.expresion)\n",
    "\t\treturn entrada\n",
    "calculadora = caculadora(input(\"entre algo para calcular\"))\n",
    "r = calculadora.calcular()\n",
    "print(r)\n",
    "\n"
   ]
  }
 ],
 "metadata": {
  "kernelspec": {
   "display_name": "Python 3",
   "language": "python",
   "name": "python3"
  },
  "language_info": {
   "codemirror_mode": {
    "name": "ipython",
    "version": 3
   },
   "file_extension": ".py",
   "mimetype": "text/x-python",
   "name": "python",
   "nbconvert_exporter": "python",
   "pygments_lexer": "ipython3",
   "version": "3.8.1"
  }
 },
 "nbformat": 4,
 "nbformat_minor": 2
}
